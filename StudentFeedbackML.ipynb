{
 "cells": [
  {
   "cell_type": "markdown",
   "id": "52216d36",
   "metadata": {},
   "source": [
    "# Analysing Student Feedback Using Machine Learning"
   ]
  },
  {
   "cell_type": "markdown",
   "id": "37696c5d",
   "metadata": {},
   "source": [
    "## Importing necessary libraries."
   ]
  },
  {
   "cell_type": "code",
   "execution_count": 1,
   "id": "1a34850a",
   "metadata": {},
   "outputs": [],
   "source": [
    "\n",
    "import warnings\n",
    "warnings.filterwarnings('ignore')#avoid warnings for clean output\n",
    "\n",
    "import numpy as np #Importing the necessary numeric data packages and data analysis packages\n",
    "import pandas as pd\n",
    "pd.set_option('display.max_rows', 999)"
   ]
  },
  {
   "cell_type": "markdown",
   "id": "b7f99290",
   "metadata": {},
   "source": [
    "## Loading Data"
   ]
  },
  {
   "cell_type": "markdown",
   "id": "274963fb",
   "metadata": {},
   "source": [
    "We will start by loading the data into a dataframe. The read_csv function reads a .csv file and loads it into a data frame which enables us to easily manipulate and use the data. "
   ]
  },
  {
   "cell_type": "code",
   "execution_count": 2,
   "id": "f31e6fe5",
   "metadata": {},
   "outputs": [],
   "source": [
    "train_file_path = \"feedback dataset.csv\"\n",
    "train_data = pd.read_csv(train_file_path)"
   ]
  },
  {
   "cell_type": "markdown",
   "id": "e397b196",
   "metadata": {},
   "source": [
    "We will train our model using the student reviews dataset. This dataset contains 5200 Reviews and a sentiment column which denotes whether the review is positive or negative.\n",
    "\n",
    "This is how our dataframe looks like."
   ]
  },
  {
   "cell_type": "code",
   "execution_count": 3,
   "id": "89059556",
   "metadata": {},
   "outputs": [
    {
     "data": {
      "text/html": [
       "<div>\n",
       "<style scoped>\n",
       "    .dataframe tbody tr th:only-of-type {\n",
       "        vertical-align: middle;\n",
       "    }\n",
       "\n",
       "    .dataframe tbody tr th {\n",
       "        vertical-align: top;\n",
       "    }\n",
       "\n",
       "    .dataframe thead th {\n",
       "        text-align: right;\n",
       "    }\n",
       "</style>\n",
       "<table border=\"1\" class=\"dataframe\">\n",
       "  <thead>\n",
       "    <tr style=\"text-align: right;\">\n",
       "      <th></th>\n",
       "      <th>text</th>\n",
       "      <th>sentiment</th>\n",
       "    </tr>\n",
       "  </thead>\n",
       "  <tbody>\n",
       "    <tr>\n",
       "      <th>0</th>\n",
       "      <td>Display is excellent and camera is as good as ...</td>\n",
       "      <td>1</td>\n",
       "    </tr>\n",
       "    <tr>\n",
       "      <th>1</th>\n",
       "      <td>Battery life is also great!</td>\n",
       "      <td>1</td>\n",
       "    </tr>\n",
       "    <tr>\n",
       "      <th>2</th>\n",
       "      <td>Protects the phone on all sides.</td>\n",
       "      <td>1</td>\n",
       "    </tr>\n",
       "    <tr>\n",
       "      <th>3</th>\n",
       "      <td>Clear Skype Calls, Long Battery Life, Long Range.</td>\n",
       "      <td>1</td>\n",
       "    </tr>\n",
       "    <tr>\n",
       "      <th>4</th>\n",
       "      <td>Great Hands Free Device.</td>\n",
       "      <td>1</td>\n",
       "    </tr>\n",
       "  </tbody>\n",
       "</table>\n",
       "</div>"
      ],
      "text/plain": [
       "                                                text  sentiment\n",
       "0  Display is excellent and camera is as good as ...          1\n",
       "1                        Battery life is also great!          1\n",
       "2                   Protects the phone on all sides.          1\n",
       "3  Clear Skype Calls, Long Battery Life, Long Range.          1\n",
       "4                           Great Hands Free Device.          1"
      ]
     },
     "execution_count": 3,
     "metadata": {},
     "output_type": "execute_result"
    }
   ],
   "source": [
    "train_data.head()#shows the first 5 rows of our dataset"
   ]
  },
  {
   "cell_type": "code",
   "execution_count": 4,
   "id": "93223a40",
   "metadata": {},
   "outputs": [
    {
     "name": "stdout",
     "output_type": "stream",
     "text": [
      "Total number of Reviews in train set = 5200\n"
     ]
    }
   ],
   "source": [
    "print(\"Total number of Reviews in train set = {}\".format(train_data.shape[0]))# printing the total number of reviews in our data set"
   ]
  },
  {
   "cell_type": "code",
   "execution_count": 5,
   "id": "5768342b",
   "metadata": {},
   "outputs": [],
   "source": [
    "train_data=train_data.dropna()# dropping the null value rows"
   ]
  },
  {
   "cell_type": "code",
   "execution_count": 6,
   "id": "fd36c651",
   "metadata": {},
   "outputs": [],
   "source": [
    "train_data.sentiment = train_data.sentiment.apply(lambda x: int(x == 1)) #Assaigning the 1 to the left out reviews"
   ]
  },
  {
   "cell_type": "code",
   "execution_count": 7,
   "id": "ff86baca",
   "metadata": {},
   "outputs": [
    {
     "name": "stdout",
     "output_type": "stream",
     "text": [
      "Total number of positive and negative tweets are as follow:\n"
     ]
    },
    {
     "data": {
      "text/plain": [
       "0    2600\n",
       "1    2600\n",
       "Name: sentiment, dtype: int64"
      ]
     },
     "execution_count": 7,
     "metadata": {},
     "output_type": "execute_result"
    }
   ],
   "source": [
    "print(\"Total number of positive and negative tweets are as follow:\")\n",
    "train_data.sentiment.value_counts()# out put the number of different reviews in our data set"
   ]
  },
  {
   "cell_type": "markdown",
   "id": "5bebcd2b",
   "metadata": {},
   "source": [
    "This is a balanced dataset. This means that the number of negative reviews is equal to the number of positive reviews. This will ensure that our model is not biased."
   ]
  },
  {
   "cell_type": "markdown",
   "id": "7f286862",
   "metadata": {},
   "source": [
    "## Processing data"
   ]
  },
  {
   "cell_type": "markdown",
   "id": "f62c6c64",
   "metadata": {},
   "source": [
    "Machine Learning algorithms do not deal with text, and therefore we will have to process this before we start training our model. We will start by importing all the necessary libraries to process text."
   ]
  },
  {
   "cell_type": "code",
   "execution_count": 8,
   "id": "39c5038e",
   "metadata": {},
   "outputs": [
    {
     "name": "stderr",
     "output_type": "stream",
     "text": [
      "[nltk_data] Downloading package stopwords to C:\\Users\\P.Lenin naga\n",
      "[nltk_data]     kumar\\AppData\\Roaming\\nltk_data...\n",
      "[nltk_data]   Package stopwords is already up-to-date!\n",
      "[nltk_data] Downloading package punkt to C:\\Users\\P.Lenin naga\n",
      "[nltk_data]     kumar\\AppData\\Roaming\\nltk_data...\n",
      "[nltk_data]   Package punkt is already up-to-date!\n"
     ]
    },
    {
     "data": {
      "text/plain": [
       "True"
      ]
     },
     "execution_count": 8,
     "metadata": {},
     "output_type": "execute_result"
    }
   ],
   "source": [
    "import re #Regural expression module\n",
    "import nltk #Natural language toolkit\n",
    "from nltk.corpus import stopwords #corpus is large and structured set of text\n",
    "from string import punctuation #loading set of punctuations from string library\n",
    "from nltk.tokenize import word_tokenize\n",
    "from keras.preprocessing.text import Tokenizer\n",
    "from keras.preprocessing.sequence import pad_sequences\n",
    "nltk.download('stopwords') #we can download and print the stopwords if needed\n",
    "nltk.download('punkt')"
   ]
  },
  {
   "cell_type": "markdown",
   "id": "63c9f1e8",
   "metadata": {},
   "source": [
    "We will start by removing punctuations and emojis. Then we will remove any non-ASCII characters and other special charecters because these do not alter the sentiment of the review."
   ]
  },
  {
   "cell_type": "code",
   "execution_count": 9,
   "id": "d3f80f0d",
   "metadata": {},
   "outputs": [],
   "source": [
    "stop_words = set(list(punctuation)) #storing list list of punctuation marks in the variable\n",
    "def process_text(text): # A fuction that returns the pre-processed data\n",
    "    text = text.lower() # converts all the data to lower case letters\n",
    "    text = re.sub(r'[^\\x00-\\x7F]+',' ', text) # It replaces the non-Ascii characters with the spaces\n",
    "    text = re.sub('@[^\\s]+', ' ', text) # replace any white-spaces characters with space\n",
    "    text = re.sub(r'#([^\\s]+)', ' ', text)\n",
    "    text = word_tokenize(text) #extracts the tokens from string of characters\n",
    "    text = [word for word in text if word not in stop_words] #removes all the punctuation marks from the list and store data in text variable\n",
    "    return text"
   ]
  },
  {
   "cell_type": "code",
   "execution_count": 10,
   "id": "6a41279e",
   "metadata": {},
   "outputs": [],
   "source": [
    "max_vocab_size = 5000 #we assaign 5000 as the maximum vocabulary size\n",
    "max_words = 50 # This assaign the max length of the each review we should consider is 50"
   ]
  },
  {
   "cell_type": "code",
   "execution_count": 11,
   "id": "c78638de",
   "metadata": {},
   "outputs": [],
   "source": [
    "train_data['text'] = train_data['text'].apply(process_text) #Here we apply the process_text function to the all train_data to get preprocessed and ready for the training"
   ]
  },
  {
   "cell_type": "markdown",
   "id": "7699bef8",
   "metadata": {},
   "source": [
    "This is how our modified data frame looks like with the processed texts."
   ]
  },
  {
   "cell_type": "code",
   "execution_count": 12,
   "id": "e9a22cde",
   "metadata": {},
   "outputs": [
    {
     "data": {
      "text/html": [
       "<div>\n",
       "<style scoped>\n",
       "    .dataframe tbody tr th:only-of-type {\n",
       "        vertical-align: middle;\n",
       "    }\n",
       "\n",
       "    .dataframe tbody tr th {\n",
       "        vertical-align: top;\n",
       "    }\n",
       "\n",
       "    .dataframe thead th {\n",
       "        text-align: right;\n",
       "    }\n",
       "</style>\n",
       "<table border=\"1\" class=\"dataframe\">\n",
       "  <thead>\n",
       "    <tr style=\"text-align: right;\">\n",
       "      <th></th>\n",
       "      <th>text</th>\n",
       "      <th>sentiment</th>\n",
       "    </tr>\n",
       "  </thead>\n",
       "  <tbody>\n",
       "    <tr>\n",
       "      <th>0</th>\n",
       "      <td>[display, is, excellent, and, camera, is, as, ...</td>\n",
       "      <td>1</td>\n",
       "    </tr>\n",
       "    <tr>\n",
       "      <th>1</th>\n",
       "      <td>[battery, life, is, also, great]</td>\n",
       "      <td>1</td>\n",
       "    </tr>\n",
       "    <tr>\n",
       "      <th>2</th>\n",
       "      <td>[protects, the, phone, on, all, sides]</td>\n",
       "      <td>1</td>\n",
       "    </tr>\n",
       "    <tr>\n",
       "      <th>3</th>\n",
       "      <td>[clear, skype, calls, long, battery, life, lon...</td>\n",
       "      <td>1</td>\n",
       "    </tr>\n",
       "    <tr>\n",
       "      <th>4</th>\n",
       "      <td>[great, hands, free, device]</td>\n",
       "      <td>1</td>\n",
       "    </tr>\n",
       "  </tbody>\n",
       "</table>\n",
       "</div>"
      ],
      "text/plain": [
       "                                                text  sentiment\n",
       "0  [display, is, excellent, and, camera, is, as, ...          1\n",
       "1                   [battery, life, is, also, great]          1\n",
       "2             [protects, the, phone, on, all, sides]          1\n",
       "3  [clear, skype, calls, long, battery, life, lon...          1\n",
       "4                       [great, hands, free, device]          1"
      ]
     },
     "execution_count": 12,
     "metadata": {},
     "output_type": "execute_result"
    }
   ],
   "source": [
    "train_data.head() #This is how the data looks after applying some of the preprocessing techniques"
   ]
  },
  {
   "cell_type": "markdown",
   "id": "dfd5ab56",
   "metadata": {},
   "source": [
    "Now the text has been cleaned its time to convert them into tokens through this process called tokenization. Tokenization is the process of replacing thext with unique numbers. Since our model won't be able to understand the text. This process converts our text into an array of sequences which can be read by our model.\n",
    "We use the Keras' tokenzier fucntion to do this for us. Then we get a sequence of tokens. \n",
    "\n",
    "Then inorder to make sure that all our sequences are of same length we pad these sequnece with zeroes."
   ]
  },
  {
   "cell_type": "code",
   "execution_count": 13,
   "id": "bbe52711",
   "metadata": {},
   "outputs": [],
   "source": [
    "tokenizer = Tokenizer(num_words=max_vocab_size) #max words in the dictonary we create\n",
    "tokenizer.fit_on_texts(train_data['text']) #tokenizer will assign numbers to words\n",
    "sequences = tokenizer.texts_to_sequences(train_data['text']) #change list with words into the list with numbers\n",
    "padded_sequences = pad_sequences(sequences, maxlen=max_words, padding='post',) #all other remaining blocks will be assigned zero"
   ]
  },
  {
   "cell_type": "code",
   "execution_count": 14,
   "id": "c8f9d6e3",
   "metadata": {},
   "outputs": [
    {
     "data": {
      "text/plain": [
       "array([[2006,    3,   43, ...,    0,    0,    0],\n",
       "       [ 202,  235,    3, ...,    0,    0,    0],\n",
       "       [3240,    1,   60, ...,    0,    0,    0],\n",
       "       ...,\n",
       "       [2003,    0,    0, ...,    0,    0,    0],\n",
       "       [ 102,    0,    0, ...,    0,    0,    0],\n",
       "       [  43,   18,  247, ...,    0,    0,    0]])"
      ]
     },
     "execution_count": 14,
     "metadata": {},
     "output_type": "execute_result"
    }
   ],
   "source": [
    "padded_sequences # this is how our totally preprocessed data looks like "
   ]
  },
  {
   "cell_type": "markdown",
   "id": "06231c79",
   "metadata": {},
   "source": [
    "## Splitting the data"
   ]
  },
  {
   "cell_type": "markdown",
   "id": "e0bd37ee",
   "metadata": {},
   "source": [
    "We split the dataframe into train and test set. Intuitively, we will use the train set to train our Model and our test set to test the performance of our model."
   ]
  },
  {
   "cell_type": "code",
   "execution_count": 15,
   "id": "d7506ddd",
   "metadata": {},
   "outputs": [
    {
     "name": "stdout",
     "output_type": "stream",
     "text": [
      "The number of elements in Train Set = 3484\n",
      "The number of elements in Test Set = 1716\n"
     ]
    }
   ],
   "source": [
    "from sklearn.model_selection import train_test_split # The sklearn library has the many machine learning and stastical models we loaded tarin_test_split\n",
    "xtrain, xtest, ytrain, ytest = train_test_split(padded_sequences, train_data.sentiment, test_size=0.33, random_state=42, shuffle = True) #This funcion splits the train data and test data \n",
    "print('The number of elements in Train Set = {}'.format(len(xtrain)))#the two lines of code prints number of elements in test set and train set\n",
    "print('The number of elements in Test Set = {}'.format(len(xtest)))\n",
    "methodnames = []\n",
    "methodscores = []\n",
    "methodprecision=[]\n",
    "methodrecall=[]\n",
    "methodf1=[]"
   ]
  },
  {
   "cell_type": "markdown",
   "id": "ed488c15",
   "metadata": {},
   "source": [
    "# Gaussian Naive bayes Algorithm"
   ]
  },
  {
   "cell_type": "code",
   "execution_count": 16,
   "id": "c6808d94",
   "metadata": {},
   "outputs": [
    {
     "name": "stdout",
     "output_type": "stream",
     "text": [
      "Accuracy: 0.512238\n",
      "Precision: 0.552941\n",
      "Recall: 0.163194\n",
      "F1 score: 0.252011\n"
     ]
    },
    {
     "data": {
      "image/png": "[encoded data removed]",
      "text/plain": [
       "<Figure size 360x360 with 2 Axes>"
      ]
     },
     "metadata": {
      "needs_background": "light"
     },
     "output_type": "display_data"
    }
   ],
   "source": [
    "from sklearn.metrics import accuracy_score,precision_score,recall_score,f1_score# importing the error metrices from sklearn library\n",
    "from sklearn.naive_bayes import GaussianNB#importing the Gaussian Naive bayes algorithm \n",
    "import seaborn as sns#importing seaborn library for graphics\n",
    "%matplotlib inline \n",
    "from matplotlib import pyplot as ply\n",
    "gnb = GaussianNB()#loading the algorithm in the gnb variable\n",
    "gnb.fit(xtrain, ytrain)#fitting is training the model with the train data set\n",
    "methodnames.append(\"GNB\")\n",
    "methodscores.append(gnb.score(xtest,ytest))\n",
    "\n",
    "f=gnb.predict(xtest)# predict the labels of the data values on the basis of the trained model and stores in the variable\n",
    "accuracy = accuracy_score(ytest, f) #the accuracy of the model is stored in variable\n",
    "print('Accuracy: %f' % accuracy)#printing the accuracy of our trained model\n",
    "precision = precision_score(ytest, f) #the accuracy of the model is found\n",
    "print('Precision: %f' % precision)#printing the precision of our trained model\n",
    "recall = recall_score(ytest, f) #The recall score of the model is find\n",
    "print('Recall: %f' % recall)#printing the Recall of our trained model\n",
    "f1 = f1_score(ytest, f) #The f1_score of the model is find\n",
    "print('F1 score: %f' % f1)#printing the f1_score of our trained model\n",
    "methodprecision.append(precision)#appending the varaible names to the metrices in the following 3 lines\n",
    "methodrecall.append(recall)\n",
    "methodf1.append(f1)\n",
    "from sklearn.metrics import confusion_matrix #importing the confusion matrix from sklearn\n",
    "cm = confusion_matrix(ytest,f)#loading the confusion matrix to the varaible\n",
    "f,ax = ply.subplots(figsize=(5, 5))\n",
    "sns.heatmap(cm, annot=True, linewidths=0.5,linecolor=\"red\", fmt= '.0f',ax=ax,cmap=\"Blues\")#printing the confusion matrix using heatmaps\n",
    "\n",
    "ply.savefig('DTConfusionMatrix.png')#saving the matrix figure\n",
    "ply.xlabel(\"Predicted Values\")#assaigning the x-axis and y-axis labels\n",
    "ply.ylabel(\"True Values\")\n",
    "ply.show()#This displays the confusion matrix figure\n"
   ]
  },
  {
   "cell_type": "markdown",
   "id": "2e58cace",
   "metadata": {},
   "source": [
    "# Decision Tree classifier"
   ]
  },
  {
   "cell_type": "markdown",
   "id": "475bc46e",
   "metadata": {},
   "source": [
    "In the below block we use the Decision tree classifier algorithm for training and finding the error metrices for our model all the code is similar to the above gaussian naive bayes classifer.\n",
    "For the description of the code snippets you can refer to the gaussian naive bayes code block"
   ]
  },
  {
   "cell_type": "code",
   "execution_count": 17,
   "id": "ad8e2257",
   "metadata": {},
   "outputs": [
    {
     "name": "stdout",
     "output_type": "stream",
     "text": [
      "Accuracy: 0.786713\n",
      "Precision: 0.809701\n",
      "Recall: 0.753472\n",
      "F1 score: 0.780576\n"
     ]
    },
    {
     "data": {
      "image/png": "[encoded data removed]",
      "text/plain": [
       "<Figure size 360x360 with 2 Axes>"
      ]
     },
     "metadata": {
      "needs_background": "light"
     },
     "output_type": "display_data"
    }
   ],
   "source": [
    "\n",
    "from sklearn.tree import DecisionTreeClassifier\n",
    "from sklearn.metrics import accuracy_score,precision_score,recall_score,f1_score,cohen_kappa_score\n",
    "dectree = DecisionTreeClassifier()\n",
    "dectree.fit(xtrain,ytrain)\n",
    "methodnames.append(\"DT\")\n",
    "methodscores.append(dectree.score(xtest,ytest))\n",
    "\n",
    "f=dectree.predict(xtest)\n",
    "accuracy = accuracy_score(ytest, f)\n",
    "print('Accuracy: %f' % accuracy)\n",
    "precision = precision_score(ytest, f)\n",
    "print('Precision: %f' % precision)\n",
    "recall = recall_score(ytest, f)\n",
    "print('Recall: %f' % recall)\n",
    "f1 = f1_score(ytest, f)\n",
    "print('F1 score: %f' % f1)\n",
    "methodprecision.append(precision)\n",
    "methodrecall.append(recall)\n",
    "methodf1.append(f1)\n",
    "cm = confusion_matrix(ytest,f)\n",
    "f,ax = ply.subplots(figsize=(5, 5))\n",
    "sns.heatmap(cm, annot=True, linewidths=0.5,linecolor=\"red\", fmt= '.0f',cmap=\"Blues\",ax=ax)\n",
    "\n",
    "ply.savefig('DTConfusionMatrix.png')\n",
    "ply.xlabel(\"Predicted Values\")\n",
    "ply.ylabel(\"True Values\")\n",
    "ply.show()"
   ]
  },
  {
   "cell_type": "markdown",
   "id": "b21f98ba",
   "metadata": {},
   "source": [
    "# Random Forest Classifier"
   ]
  },
  {
   "cell_type": "markdown",
   "id": "e878680c",
   "metadata": {},
   "source": [
    "In the below block we use the random forest algorithm for training and finding the error metrices for our model all the code is similar to the above gaussian naive bayes classifer.\n",
    "For the description of the code snippets you can refer to the gaussian naive bayes code block"
   ]
  },
  {
   "cell_type": "code",
   "execution_count": 18,
   "id": "ae6f6426",
   "metadata": {},
   "outputs": [
    {
     "name": "stdout",
     "output_type": "stream",
     "text": [
      "Accuracy: 0.801282\n",
      "Precision: 0.877345\n",
      "Recall: 0.703704\n",
      "F1 score: 0.780989\n"
     ]
    },
    {
     "data": {
      "image/png": "[encoded data removed]",
      "text/plain": [
       "<Figure size 360x360 with 2 Axes>"
      ]
     },
     "metadata": {
      "needs_background": "light"
     },
     "output_type": "display_data"
    }
   ],
   "source": [
    "\n",
    "from sklearn.ensemble import RandomForestClassifier #importing the Random forest algorithm \n",
    "randforest = RandomForestClassifier(n_estimators=100, random_state=42) #loading the algorithm in a variable\n",
    "randforest.fit(xtrain,ytrain)#fitting is training the model with the train data set\n",
    "methodnames.append(\"RF\")\n",
    "methodscores.append(randforest.score(xtest,ytest))\n",
    "\n",
    "f=randforest.predict(xtest)\n",
    "accuracy = accuracy_score(ytest, f) \n",
    "print('Accuracy: %f' % accuracy)\n",
    "precision = precision_score(ytest, f) \n",
    "print('Precision: %f' % precision)\n",
    "recall = recall_score(ytest, f) \n",
    "print('Recall: %f' % recall)\n",
    "f1 = f1_score(ytest, f)\n",
    "print('F1 score: %f' % f1)\n",
    "methodprecision.append(precision)\n",
    "methodrecall.append(recall)\n",
    "methodf1.append(f1)\n",
    "cm = confusion_matrix(ytest,f)\n",
    "f,ax = ply.subplots(figsize=(5, 5))\n",
    "sns.heatmap(cm, annot=True, linewidths=0.5,linecolor=\"red\", fmt= '.0f',ax=ax,cmap=\"Blues\")\n",
    "\n",
    "ply.savefig('DTConfusionMatrix.png')\n",
    "ply.xlabel(\"Predicted Values\")\n",
    "ply.ylabel(\"True Values\")\n",
    "ply.show()"
   ]
  },
  {
   "cell_type": "markdown",
   "id": "3eaf6088",
   "metadata": {},
   "source": [
    "# Accuracy, Precision, Recall, f1-score Plots for all methods"
   ]
  },
  {
   "cell_type": "markdown",
   "id": "b0f5f403",
   "metadata": {},
   "source": [
    "# Accuracy Score Plot"
   ]
  },
  {
   "cell_type": "code",
   "execution_count": 27,
   "id": "0e708bbc",
   "metadata": {},
   "outputs": [
    {
     "data": {
      "image/png": "[encoded data removed]",
      "text/plain": [
       "<Figure size 360x288 with 1 Axes>"
      ]
     },
     "metadata": {
      "needs_background": "light"
     },
     "output_type": "display_data"
    }
   ],
   "source": [
    "ply.figure(figsize=(5,4))#specifies the dimensions of the figure\n",
    "ply.ylim([0.40,1])#Set the y limits of the axis\n",
    "ply.bar(methodnames,methodscores,width=0.2)#Bar graph for the all methods with specified width\n",
    "ply.grid()#for the picture the grid is ploted to look clear\n",
    "ply.xlabel('Method Name')#allocating both x and y axis labels in next 2 lines\n",
    "ply.ylabel('Accuracy')\n",
    "for a,b in zip(methodnames,methodscores):#The zip function iterates the all the variables\n",
    "    ply.text(a, b, str(round(b,2)))#text function add text in the plot and here the score is round off to 2 decimals"
   ]
  },
  {
   "cell_type": "markdown",
   "id": "e467b372",
   "metadata": {},
   "source": [
    "# Precision Score Plot"
   ]
  },
  {
   "cell_type": "markdown",
   "id": "c0b13c21",
   "metadata": {},
   "source": [
    "The code snippet explaninaton for the below plots can be clearly explained in the block [27] refer to it for clear understanding"
   ]
  },
  {
   "cell_type": "code",
   "execution_count": 26,
   "id": "4a714ef4",
   "metadata": {},
   "outputs": [
    {
     "data": {
      "image/png": "[encoded data removed]",
      "text/plain": [
       "<Figure size 360x288 with 1 Axes>"
      ]
     },
     "metadata": {
      "needs_background": "light"
     },
     "output_type": "display_data"
    }
   ],
   "source": [
    "ply.figure(figsize=(5,4))\n",
    "ply.ylim([0.40,1])\n",
    "ply.bar(methodnames,methodprecision,width=0.2)\n",
    "ply.grid()\n",
    "ply.xlabel('Method Name')\n",
    "ply.ylabel('Precision')\n",
    "for a,b in zip(methodnames,methodprecision):\n",
    "    ply.text(a, b, str(round(b,2)))"
   ]
  },
  {
   "cell_type": "markdown",
   "id": "54f5dd4d",
   "metadata": {},
   "source": [
    "# Recall Score Plot"
   ]
  },
  {
   "cell_type": "code",
   "execution_count": 25,
   "id": "15b7db86",
   "metadata": {},
   "outputs": [
    {
     "data": {
      "image/png": "[encoded data removed]",
      "text/plain": [
       "<Figure size 360x288 with 1 Axes>"
      ]
     },
     "metadata": {
      "needs_background": "light"
     },
     "output_type": "display_data"
    }
   ],
   "source": [
    "ply.figure(figsize=(5,4))\n",
    "ply.ylim([0.10,1])\n",
    "ply.bar(methodnames,methodrecall,width=0.2)\n",
    "ply.grid()\n",
    "ply.xlabel('Method Name')\n",
    "ply.ylabel('Recall')\n",
    "for a,b in zip(methodnames,methodrecall):\n",
    "    ply.text(a, b, str(round(b,2)))"
   ]
  },
  {
   "cell_type": "markdown",
   "id": "65454b09",
   "metadata": {},
   "source": [
    "# f1-Score Plot"
   ]
  },
  {
   "cell_type": "code",
   "execution_count": 24,
   "id": "93e9e57b",
   "metadata": {},
   "outputs": [
    {
     "data": {
      "image/png": "[encoded data removed]",
      "text/plain": [
       "<Figure size 360x288 with 1 Axes>"
      ]
     },
     "metadata": {
      "needs_background": "light"
     },
     "output_type": "display_data"
    }
   ],
   "source": [
    "ply.figure(figsize=(5,4))\n",
    "ply.ylim([0.10,1])\n",
    "ply.bar(methodnames,methodf1,width=0.2)\n",
    "ply.grid()\n",
    "ply.xlabel('Method Name')\n",
    "ply.ylabel('F1')\n",
    "for a,b in zip(methodnames,methodf1):\n",
    "    ply.text(a, b, str(round(b,2)))"
   ]
  }
 ],
 "metadata": {
  "kernelspec": {
   "display_name": "Python 3",
   "language": "python",
   "name": "python3"
  },
  "language_info": {
   "codemirror_mode": {
    "name": "ipython",
    "version": 3
   },
   "file_extension": ".py",
   "mimetype": "text/x-python",
   "name": "python",
   "nbconvert_exporter": "python",
   "pygments_lexer": "ipython3",
   "version": "3.8.8"
  }
 },
 "nbformat": 4,
 "nbformat_minor": 5
}
